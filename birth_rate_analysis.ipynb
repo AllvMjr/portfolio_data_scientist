{
  "nbformat": 4,
  "nbformat_minor": 0,
  "metadata": {
    "colab": {
      "provenance": [],
      "authorship_tag": "ABX9TyOKM/qdT72izpoB2AwFvOo8",
      "include_colab_link": true
    },
    "kernelspec": {
      "name": "python3",
      "display_name": "Python 3"
    },
    "language_info": {
      "name": "python"
    }
  },
  "cells": [
    {
      "cell_type": "markdown",
      "metadata": {
        "id": "view-in-github",
        "colab_type": "text"
      },
      "source": [
        "<a href=\"https://colab.research.google.com/github/AllvMjr/portfolio_data_scientist/blob/main/birth_rate_analysis.ipynb\" target=\"_parent\"><img src=\"https://colab.research.google.com/assets/colab-badge.svg\" alt=\"Open In Colab\"/></a>"
      ]
    },
    {
      "cell_type": "code",
      "execution_count": 1,
      "metadata": {
        "id": "gS6dPuaanKrt"
      },
      "outputs": [],
      "source": [
        "# imports\n",
        "import pandas as pd\n",
        "import numpy as np\n",
        "import matplotlib.pyplot as plt\n",
        "import seaborn as sns\n",
        "from scipy import stats\n",
        "from datetime import datetime\n",
        "sns.set_theme()"
      ]
    },
    {
      "cell_type": "code",
      "source": [
        "births = pd.read_csv('births.csv')\n"
      ],
      "metadata": {
        "id": "xrPUXcrcnhHz"
      },
      "execution_count": 6,
      "outputs": []
    },
    {
      "cell_type": "code",
      "source": [
        "births['decade'] = 10 * (births.year // 10)\n",
        "births.pivot_table('births', index='decade', columns='gender', aggfunc='sum')\n",
        "print(births.head())"
      ],
      "metadata": {
        "colab": {
          "base_uri": "https://localhost:8080/"
        },
        "id": "LdmxqlSrnzYV",
        "outputId": "23177561-060c-44e1-f91c-7ef8cfdbd1e6"
      },
      "execution_count": 9,
      "outputs": [
        {
          "output_type": "stream",
          "name": "stdout",
          "text": [
            "   year  month  day gender  births  decade\n",
            "0  1969      1  1.0      F    4046    1960\n",
            "1  1969      1  1.0      M    4440    1960\n",
            "2  1969      1  2.0      F    4454    1960\n",
            "3  1969      1  2.0      M    4548    1960\n",
            "4  1969      1  3.0      F    4548    1960\n"
          ]
        }
      ]
    },
    {
      "cell_type": "code",
      "source": [],
      "metadata": {
        "id": "5ME9j_PpoSPI"
      },
      "execution_count": null,
      "outputs": []
    }
  ]
}