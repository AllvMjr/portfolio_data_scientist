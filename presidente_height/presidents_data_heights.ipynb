{
 "cells": [
  {
   "cell_type": "code",
   "execution_count": 1,
   "id": "initial_id",
   "metadata": {
    "ExecuteTime": {
     "end_time": "2025-02-06T09:18:02.309069Z",
     "start_time": "2025-02-06T09:18:02.304861Z"
    },
    "collapsed": true
   },
   "outputs": [],
   "source": [
    "# imports\n",
    "import pandas as pd\n",
    "import numpy as np"
   ]
  },
  {
   "cell_type": "code",
   "execution_count": null,
   "id": "1dd90d2db8a061ec",
   "metadata": {
    "ExecuteTime": {
     "end_time": "2025-02-06T09:17:19.810822Z",
     "start_time": "2025-02-06T09:17:19.794578Z"
    }
   },
   "outputs": [],
   "source": [
    "# Init processing\n",
    "data = pd.read_csv(\"president_heights.csv\")\n",
    "print(data.head())"
   ]
  },
  {
   "cell_type": "code",
   "execution_count": 3,
   "id": "f0dc6e38d543043b",
   "metadata": {
    "ExecuteTime": {
     "end_time": "2025-02-06T09:18:57.077458Z",
     "start_time": "2025-02-06T09:18:57.072831Z"
    }
   },
   "outputs": [],
   "source": [
    "height = np.array(data[\"height(cm)\"])"
   ]
  },
  {
   "cell_type": "code",
   "execution_count": null,
   "id": "3985b9439bfb9dd",
   "metadata": {
    "ExecuteTime": {
     "end_time": "2025-02-06T09:32:54.443764Z",
     "start_time": "2025-02-06T09:32:54.436268Z"
    }
   },
   "outputs": [],
   "source": [
    "print(f\"Mean og heights =\" , height.mean())\n",
    "print(f\"Standard deviation of heights =\" , height.std())\n",
    "print(f\"Mininum height =\" , height.min())\n",
    "print(f\"Maximum height =\" , height.max())"
   ]
  },
  {
   "cell_type": "code",
   "execution_count": null,
   "id": "d5114345447be6c9",
   "metadata": {
    "ExecuteTime": {
     "end_time": "2025-02-06T09:35:45.467851Z",
     "start_time": "2025-02-06T09:35:45.456863Z"
    }
   },
   "outputs": [],
   "source": [
    "# Summarrizing percentil\n",
    "print(f\"25th percentile =\" , np.percentile(height,25))\n",
    "print(f\"Median =\" , np.median(height))\n",
    "print(f\"75th percentile = \", np.percentile(height,75))"
   ]
  },
  {
   "cell_type": "code",
   "execution_count": 6,
   "id": "420f38a56e1383fe",
   "metadata": {
    "ExecuteTime": {
     "end_time": "2025-02-06T09:55:34.332511Z",
     "start_time": "2025-02-06T09:55:34.324520Z"
    }
   },
   "outputs": [],
   "source": [
    "import matplotlib.pyplot as plt\n",
    "import seaborn as sns\n",
    "sns.set_theme()"
   ]
  },
  {
   "cell_type": "code",
   "execution_count": null,
   "id": "49416320661257ce",
   "metadata": {
    "ExecuteTime": {
     "end_time": "2025-02-06T09:53:45.559986Z",
     "start_time": "2025-02-06T09:53:45.364252Z"
    }
   },
   "outputs": [],
   "source": [
    "# creating plot\n",
    "plt.hist(height)\n",
    "plt.title(\"Height Distribution of President of USA\")\n",
    "plt.xlabel(\"height(cm)\")\n",
    "plt.ylabel(\"Number\")\n",
    "plt.show()"
   ]
  }
 ],
 "metadata": {
  "kernelspec": {
   "display_name": "Python 3",
   "language": "python",
   "name": "python3"
  },
  "language_info": {
   "codemirror_mode": {
    "name": "ipython",
    "version": 3
   },
   "file_extension": ".py",
   "mimetype": "text/x-python",
   "name": "python",
   "nbconvert_exporter": "python",
   "pygments_lexer": "ipython3",
   "version": "3.10.12"
  }
 },
 "nbformat": 4,
 "nbformat_minor": 5
}
